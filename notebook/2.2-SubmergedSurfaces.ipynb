{
 "cells": [
  {
   "cell_type": "markdown",
   "source": [
    "<img src=\"https://raw.githubusercontent.com/UCLAMAEThreads/FluidDynTools.jl/main/notebook/logo_UCLA_blue_boxed.svg\" alt=\"ucla logo\" width=\"150\" align=\"left\"/>"
   ],
   "metadata": {}
  },
  {
   "cell_type": "markdown",
   "source": [
    "### **Introduction to Fluid Dynamics**\n",
    "<hr />"
   ],
   "metadata": {}
  },
  {
   "cell_type": "markdown",
   "source": [
    "# Submerged surfaces\n",
    "In this notebook, we will learn how to calculate force and moment on\n",
    "flat surfaces immersed in static fluids"
   ],
   "metadata": {}
  },
  {
   "cell_type": "markdown",
   "source": [
    "### Set up the module"
   ],
   "metadata": {}
  },
  {
   "outputs": [],
   "cell_type": "code",
   "source": [
    "using FluidDynTools"
   ],
   "metadata": {},
   "execution_count": 1
  },
  {
   "outputs": [],
   "cell_type": "code",
   "source": [
    "using Plots"
   ],
   "metadata": {},
   "execution_count": 2
  },
  {
   "cell_type": "markdown",
   "source": [
    "# Example\n",
    "A circular gate of 3 m diameter is located in an inclined wall (60 degrees\n",
    "from horizontal) of a large reservoir filled with water. A horizontal shaft runs through\n",
    "the center of the gate. The shaft is at a depth of 12 m. The other side\n",
    "of the gate is exposed to air at atmospheric pressure.\n",
    "* What is the force on the gate?\n",
    "* Where does this force effectively act?\n",
    "* What is the moment applied by the water on the gate shaft?"
   ],
   "metadata": {}
  },
  {
   "cell_type": "markdown",
   "source": [
    "Here, we are working with a simple, symmetric shape (a circle), and we\n",
    "know that the centroid of a circle is at its center. Since the shaft runs\n",
    "through the center, we know that the centroid is at a depth of 12 m."
   ],
   "metadata": {}
  },
  {
   "outputs": [
    {
     "output_type": "execute_result",
     "data": {
      "text/plain": "1.0471975511965976"
     },
     "metadata": {},
     "execution_count": 3
    }
   ],
   "cell_type": "code",
   "source": [
    "hc = Depth(12)\n",
    "d = Diameter(3)\n",
    "Θ = 60*π/180"
   ],
   "metadata": {},
   "execution_count": 3
  },
  {
   "cell_type": "markdown",
   "source": [
    "The force is easy to compute, since it is just the specific weight times\n",
    "area times depth.\n",
    "\n",
    "$$F_R = \\gamma h_c A$$\n",
    "\n",
    "(The atmospheric pressure contributes nothing in this problem, since it\n",
    "acts the same on both sides.)"
   ],
   "metadata": {}
  },
  {
   "outputs": [
    {
     "output_type": "execute_result",
     "data": {
      "text/plain": "Force = 830997.6596117103 N"
     },
     "metadata": {},
     "execution_count": 4
    }
   ],
   "cell_type": "code",
   "source": [
    "A = Area(CircularPlate,d/2)\n",
    "FR = Force(SpecificWeight(Water)*A*hc)"
   ],
   "metadata": {},
   "execution_count": 4
  },
  {
   "cell_type": "markdown",
   "source": [
    "To find the center of pressure, we use the formula\n",
    "\n",
    "$$y_R = \\dfrac{I_{xc}}{y_c A} + y_c$$\n",
    "\n",
    "This the location along the $y$ axis, which runs from the free surface downward, parallel\n",
    "to the plate. In the formula, $I_{xc}$ is the second area moment about the $x$ axis running\n",
    "through the centroid of the plate, and $y_c$ is the $y$ coordinate of the centroid.\n",
    "\n",
    "But $y_c$ is simply $h_c/\\sin\\theta$:"
   ],
   "metadata": {}
  },
  {
   "outputs": [
    {
     "output_type": "execute_result",
     "data": {
      "text/plain": "Length = 13.85640646055102 m"
     },
     "metadata": {},
     "execution_count": 5
    }
   ],
   "cell_type": "code",
   "source": [
    "yc = Length(hc/sin(Θ))"
   ],
   "metadata": {},
   "execution_count": 5
  },
  {
   "cell_type": "markdown",
   "source": [
    "and $I_{xc}$ we can compute with a handy function:"
   ],
   "metadata": {}
  },
  {
   "outputs": [
    {
     "output_type": "execute_result",
     "data": {
      "text/plain": "SecondAreaMomentX = 3.9760782021995817 m⁴"
     },
     "metadata": {},
     "execution_count": 6
    }
   ],
   "cell_type": "code",
   "source": [
    "Ixc = SecondAreaMomentX(CircularPlate,d/2)"
   ],
   "metadata": {},
   "execution_count": 6
  },
  {
   "cell_type": "markdown",
   "source": [
    "Now put them together to get the center of pressure"
   ],
   "metadata": {}
  },
  {
   "outputs": [
    {
     "output_type": "execute_result",
     "data": {
      "text/plain": "Length = 13.897001401353414 m"
     },
     "metadata": {},
     "execution_count": 7
    }
   ],
   "cell_type": "code",
   "source": [
    "yR = Length(Ixc/(yc*A) + yc)"
   ],
   "metadata": {},
   "execution_count": 7
  },
  {
   "cell_type": "markdown",
   "source": [
    "How far is this from the centroid?"
   ],
   "metadata": {}
  },
  {
   "outputs": [
    {
     "output_type": "execute_result",
     "data": {
      "text/plain": "0.040594940802394675 m"
     },
     "metadata": {},
     "execution_count": 8
    }
   ],
   "cell_type": "code",
   "source": [
    "yR - yc"
   ],
   "metadata": {},
   "execution_count": 8
  },
  {
   "cell_type": "markdown",
   "source": [
    "Remember, it is lower than the centroid, because there are higher pressures\n",
    "acting below the centroid than above it.\n",
    "\n",
    "To determine the moment $M_R$ about the shaft, we simply need to remember that the\n",
    "force is acting at the center of pressure, so the moment is equal to the force times the distance\n",
    "of this center of pressure from the shaft (i.e., from the centroid)"
   ],
   "metadata": {}
  },
  {
   "outputs": [
    {
     "output_type": "execute_result",
     "data": {
      "text/plain": "Moment = 33734.3007988659 m N"
     },
     "metadata": {},
     "execution_count": 9
    }
   ],
   "cell_type": "code",
   "source": [
    "MR = Moment((yR - yc)*FR)"
   ],
   "metadata": {},
   "execution_count": 9
  },
  {
   "cell_type": "markdown",
   "source": [
    "#### A follow-up question\n",
    "What happens to these values as the plate gets deeper?\n",
    "\n",
    "Obviously force gets larger. What about $y_R$ and $M_R$? Let's set the depth\n",
    "at 20 m, and recalculate:"
   ],
   "metadata": {}
  },
  {
   "outputs": [
    {
     "output_type": "execute_result",
     "data": {
      "text/plain": "0.02435696448143787 m"
     },
     "metadata": {},
     "execution_count": 10
    }
   ],
   "cell_type": "code",
   "source": [
    "hc = Depth(20)\n",
    "FR = Force(SpecificWeight(Water)*A*hc)\n",
    "yc = Length(hc/sin(Θ))\n",
    "yR = Length(Ixc/(yc*A) + yc)\n",
    "yR - yc"
   ],
   "metadata": {},
   "execution_count": 10
  },
  {
   "cell_type": "markdown",
   "source": [
    "so it gets a little closer to the centroid as the plate gets lower. What about\n",
    "the moment?"
   ],
   "metadata": {}
  },
  {
   "outputs": [
    {
     "output_type": "execute_result",
     "data": {
      "text/plain": "Moment = 33734.30079886738 m N"
     },
     "metadata": {},
     "execution_count": 11
    }
   ],
   "cell_type": "code",
   "source": [
    "MR = Moment((yR - yc)*FR)"
   ],
   "metadata": {},
   "execution_count": 11
  },
  {
   "cell_type": "markdown",
   "source": [
    "It's exactly the same! In fact, **the moment about the centroid does not\n",
    "depend on how deep the plate is**."
   ],
   "metadata": {}
  },
  {
   "cell_type": "markdown",
   "source": [
    "#### Another follow-up question\n",
    "What happens if the plate becomes more vertical? We'll set $h_c$ to 12 m again\n",
    "and make $Θ = 90^\\circ$. Only $y_c$ changes:"
   ],
   "metadata": {}
  },
  {
   "outputs": [
    {
     "output_type": "execute_result",
     "data": {
      "text/plain": "Force = 830997.6596117103 N"
     },
     "metadata": {},
     "execution_count": 12
    }
   ],
   "cell_type": "code",
   "source": [
    "hc = Depth(12)\n",
    "Θ = 90*π/180\n",
    "FR = Force(SpecificWeight(Water)*A*hc)"
   ],
   "metadata": {},
   "execution_count": 12
  },
  {
   "cell_type": "markdown",
   "source": [
    "Note that **force is not affected** by a change in angle, since only depth\n",
    "of the centroid matters."
   ],
   "metadata": {}
  },
  {
   "outputs": [
    {
     "output_type": "execute_result",
     "data": {
      "text/plain": "0.046875 m"
     },
     "metadata": {},
     "execution_count": 13
    }
   ],
   "cell_type": "code",
   "source": [
    "yc = Length(hc/sin(Θ))\n",
    "yR = Length(Ixc/(yc*A) + yc)\n",
    "yR - yc"
   ],
   "metadata": {},
   "execution_count": 13
  },
  {
   "cell_type": "markdown",
   "source": [
    "So the center of pressure is a little further now from the centroid than\n",
    "when it was at 60 degrees.\n",
    "\n",
    "The moment:"
   ],
   "metadata": {}
  },
  {
   "outputs": [
    {
     "output_type": "execute_result",
     "data": {
      "text/plain": "Moment = 38953.01529429892 m N"
     },
     "metadata": {},
     "execution_count": 14
    }
   ],
   "cell_type": "code",
   "source": [
    "MR = Moment((yR - yc)*FR)"
   ],
   "metadata": {},
   "execution_count": 14
  },
  {
   "cell_type": "markdown",
   "source": [
    "So **moment gets larger as the surface becomes more vertical**. This is because the\n",
    "center of pressure has moved away from the centroid. This is intuitive if you\n",
    "think about the other extreme: a completely horizontal surface. In that situation,\n",
    "the pressure acts uniformly across the plate, so there is **zero net moment**\n",
    "on a horizontal surface."
   ],
   "metadata": {}
  },
  {
   "cell_type": "markdown",
   "source": [
    "---\n",
    "\n",
    "*This notebook was generated using [Literate.jl](https://github.com/fredrikekre/Literate.jl).*"
   ],
   "metadata": {}
  }
 ],
 "nbformat_minor": 3,
 "metadata": {
  "language_info": {
   "file_extension": ".jl",
   "mimetype": "application/julia",
   "name": "julia",
   "version": "1.8.2"
  },
  "kernelspec": {
   "name": "julia-1.8",
   "display_name": "Julia 1.8.2",
   "language": "julia"
  }
 },
 "nbformat": 4
}
