{
 "cells": [
  {
   "cell_type": "markdown",
   "source": [
    "<img src=\"https://raw.githubusercontent.com/UCLAMAEThreads/FluidDynTools.jl/main/notebook/logo_UCLA_blue_boxed.svg\" alt=\"ucla logo\" width=\"150\" align=\"left\"/>"
   ],
   "metadata": {}
  },
  {
   "cell_type": "markdown",
   "source": [
    "### **Introduction to Fluid Dynamics**\n",
    "<hr />"
   ],
   "metadata": {}
  },
  {
   "cell_type": "markdown",
   "source": [
    "These Jupyter notebooks and associated code serve as a companion to the course.\n",
    "\n",
    "These are not static notebooks. **You are encouraged to play with them: run with different parameter values, create other plots, etc.!** The whole point is to enable an understanding of fluid mechanics through interactiveness.\n",
    "\n",
    "*The code is released under the [MIT license](https://opensource.org/licenses/MIT).*\n",
    "<hr />"
   ],
   "metadata": {}
  },
  {
   "cell_type": "markdown",
   "source": [
    "## Table of Notebooks\n",
    "\n",
    "- [Introduction](0.1-WelcomeToJulia.ipynb)\n",
    "\n",
    "#### Chapter 1 - Fluid properties, flow quantities, and dimensional analysis\n",
    "\n",
    "- [1.0 Units and quantities](1.0-UnitsAndQuantities.ipynb)\n",
    "- [1.1 Velocity profiles](1.1-VelocityProfiles.ipynb)\n",
    "- [1.2 Dimensionless quantities](1.2-DimensionlessQuantities.ipynb)\n",
    "- [1.3 Dimensional analysis](1.3-DimensionalAnalysis.ipynb)\n",
    "\n",
    "\n",
    "#### Chapter 2 - Fluid statics\n",
    "\n",
    "- [2.0 Basics of fluid statics](2.0-FluidStatics.ipynb)\n",
    "- [2.1 Manometry](2.1-Manometry.ipynb)\n",
    "- [2.2 Submerged surfaces](2.2-SubmergedSurfaces.ipynb)\n",
    "\n",
    "\n",
    "#### Chapter 3 - Flow kinematics, fields, and vector calculus\n",
    "\n",
    "- [3.0 Streamlines](3.0-Streamlines.ipynb)\n",
    "- [3.1.1 Flow lines](3.1.1-FlowLines1.ipynb)\n",
    "- [3.1.2 Flow lines](3.1.2-FlowLines2.ipynb)\n",
    "- [3.2 Plotting flow fields](3.2-PlottingFlowFields.ipynb)\n",
    "- [3.3.1 Fields and differential operators](3.3.1-FieldsAndDifferentialOperators.ipynb)\n",
    "- [3.3.2 Vorticity and streamfunction](3.3.2-VorticityAndStreamfunction.ipynb)\n",
    "\n",
    "\n",
    "#### Chapter 4 - Control volume analysis\n",
    "\n",
    "-\n",
    "\n",
    "#### Chapter 5 - Pipe flow systems\n",
    "\n",
    "- [5.0 Energy equation example](5.0-EnergyEquationExample.ipynb)\n",
    "\n",
    "#### Chapter 6 - Potential flow\n",
    "\n",
    "- [6.0 A brief review of complex variables](6.0-ComplexVariablesNotes.ipynb)\n",
    "- [6.1 Basic potential flows](6.1-BasicPotentialFlows.ipynb)\n",
    "- [6.2 Combinations of potential flows](6.2-PotentialFlowCombinations.ipynb)\n",
    "- [6.3 Potential flow around bodies](6.3-PotentialFlowBodies.ipynb)\n",
    "- [6.4 Conformal mapping](6.4-ConformalMapping.ipynb)\n",
    "- [6.5 Potential flow around bodies, revisted](6.5-FlowsPastConformalBodies.ipynb)\n",
    "- [6.6 Vortex shedding from bodies](6.6-VortexShedding.ipynb)\n",
    "\n",
    "\n",
    "#### Chapter 7 - Boundary layers and viscous flow\n",
    "\n",
    "- [7.0 Rayleigh problem](7.0-RayleighProblem.ipynb)\n",
    "- [7.1 Laminar flow past a flat plate](7.1-FlatPlateFlow.ipynb)\n",
    "- [7.2 Blasius and Falkner-Skan flows](7.2-BlasiusAndFalknerSkan.ipynb)\n",
    "- [7.3 Computational solution of viscous flows](7.3-ComputationalSolution.ipynb)\n",
    "\n",
    "\n",
    "#### Chapter 8 - Compressible flow\n",
    "\n",
    "- [8.0 Basic gas dynamics](8.0-BasicGasDynamics.ipynb)\n",
    "- [8.1 Isentropic gas dynamics](8.1-IsentropicGasDynamics.ipynb)\n",
    "- [8.2 Converging-diverging nozzles](8.2-ConvergingDivergingNozzle.ipynb)\n",
    "- [8.3 Normal shocks](8.3-NormalShocks.ipynb)\n",
    "- [8.4 Fanno flow](8.4-FannoFlow.ipynb)\n",
    "- [8.5 Rayleigh flow](8.5-RayleighFlow.ipynb)"
   ],
   "metadata": {}
  },
  {
   "cell_type": "markdown",
   "source": [
    "---\n",
    "\n",
    "*This notebook was generated using [Literate.jl](https://github.com/fredrikekre/Literate.jl).*"
   ],
   "metadata": {}
  }
 ],
 "nbformat_minor": 3,
 "metadata": {
  "language_info": {
   "file_extension": ".jl",
   "mimetype": "application/julia",
   "name": "julia",
   "version": "1.8.2"
  },
  "kernelspec": {
   "name": "julia-1.8",
   "display_name": "Julia 1.8.2",
   "language": "julia"
  }
 },
 "nbformat": 4
}
