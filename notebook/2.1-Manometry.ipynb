{
 "cells": [
  {
   "cell_type": "markdown",
   "source": [
    "<img src=\"https://raw.githubusercontent.com/UCLAMAEThreads/FluidDynTools.jl/main/notebook/logo_UCLA_blue_boxed.svg\" alt=\"ucla logo\" width=\"150\" align=\"left\"/>"
   ],
   "metadata": {}
  },
  {
   "cell_type": "markdown",
   "source": [
    "### **Introduction to Fluid Dynamics**\n",
    "<hr />"
   ],
   "metadata": {}
  },
  {
   "cell_type": "markdown",
   "source": [
    "# Manometry\n",
    "In this notebook, we will learn\n",
    "* How to use manometers to measure pressure\n",
    "* How to combine several working fluids in a manometer\n",
    "* How to calculate for tilted manometers"
   ],
   "metadata": {}
  },
  {
   "cell_type": "markdown",
   "source": [
    "### Set up the module"
   ],
   "metadata": {}
  },
  {
   "outputs": [],
   "cell_type": "code",
   "source": [
    "using FluidDynTools"
   ],
   "metadata": {},
   "execution_count": 1
  },
  {
   "outputs": [],
   "cell_type": "code",
   "source": [
    "using Plots"
   ],
   "metadata": {},
   "execution_count": 2
  },
  {
   "cell_type": "markdown",
   "source": [
    "In fluid dynamics, we are often interested in measuring pressure differences\n",
    "between two points, often because those pressure differences allow us\n",
    "to determine flow speed.\n",
    "\n",
    "We'll discuss how we get flow speed from pressure difference later. For now, our\n",
    "goal is to show how we can measure pressure difference between two\n",
    "points. The key notion here is that we only need to measure pressure *difference*,\n",
    "not absolute pressure. Also, one of those \"points\" might simply be the atmosphere,\n",
    "where the pressure has some ambient value.\n",
    "\n",
    "Manometers enable this by turning pressure difference into a measurable height of a\n",
    "*working fluid* in the manometer. The manometer itself consists of a narrow tube,\n",
    "bent into a U-shaped form and arranged vertically so that gravity and fluid statics can\n",
    "be exploited. Sometimes the manometer has additional feature, e.g.,\n",
    "\n",
    "- one of the channels in the tube might be at an angle rather than vertical\n",
    "- one or more of the channels might be connected to a \"cistern\", with a\n",
    "much wider diameter than the tube.\n",
    "\n",
    "The working fluid is generally a **liquid**, and we can assume that it does not\n",
    "change its volume during operation. This fact will be important in the analysis."
   ],
   "metadata": {}
  },
  {
   "cell_type": "markdown",
   "source": [
    "### Example 1\n",
    "We will demonstrate here how we use the fluid statics equation to determine pressure\n",
    "by reading a measured height. Consider the example setup shown in the figure below:\n",
    "\n",
    "# <img src=\"https://raw.githubusercontent.com/UCLAMAEThreads/MAE103/main/notebook/w0022.jpg\" alt=\"manometer\" width=\"250\" align=\"left\"/>\n",
    "\n",
    "We seek to measure the gauge pressure (i.e., relative to ambient) in the air in the tank\n",
    "by measuring the heights of liquids. Suppose that the oil has specific gravity 0.9. Also,\n",
    "mercury (Hg) has a very high specific gravity, 13.6: it is a liquid metal.\n",
    "\n",
    "The heights shown are $h_1 = 36$ inches, $h_2 = 6$ inches, and $h_3 = 9$ inches.\n",
    "Let's find the gauge pressure in the air, in psi.\n",
    "\n",
    "First set the values:"
   ],
   "metadata": {}
  },
  {
   "outputs": [],
   "cell_type": "code",
   "source": [
    "h1 = Height(36u\"inch\")\n",
    "h2 = Height(6u\"inch\")\n",
    "h3 = Height(9u\"inch\")\n",
    "γoil = SpecificWeight(SpecificGravity(0.9))\n",
    "γHg = SpecificWeight(SpecificGravity(13.6))\n",
    "patm = Pressure(1u\"atm\");"
   ],
   "metadata": {},
   "execution_count": 3
  },
  {
   "cell_type": "markdown",
   "source": [
    "We work backward from the open end, where pressure is atmospheric. Just to be careful,\n",
    "we will add this atmospheric pressure, so we are working with absolute pressures,\n",
    "but then subtract it at the end to find our answer. At point 2, the pressure\n",
    "increases by $γ_{\\mathrm{Hg}}h_3$ from atmospheric:"
   ],
   "metadata": {}
  },
  {
   "outputs": [
    {
     "output_type": "execute_result",
     "data": {
      "text/plain": "Pressure = 131782.994101416 Pa"
     },
     "metadata": {},
     "execution_count": 4
    }
   ],
   "cell_type": "code",
   "source": [
    "p2 = Pressure(patm + γHg*h3)"
   ],
   "metadata": {},
   "execution_count": 4
  },
  {
   "cell_type": "markdown",
   "source": [
    "Point 1 on the mercury side is at the same elevation as point 2, and in the same\n",
    "fluid, so its pressures are equal."
   ],
   "metadata": {}
  },
  {
   "outputs": [
    {
     "output_type": "execute_result",
     "data": {
      "text/plain": "Pressure = 131782.994101416 Pa"
     },
     "metadata": {},
     "execution_count": 5
    }
   ],
   "cell_type": "code",
   "source": [
    "p1 = p2"
   ],
   "metadata": {},
   "execution_count": 5
  },
  {
   "cell_type": "markdown",
   "source": [
    "Also $p_1$ in oil is the same as in mercury. And this pressure is larger than\n",
    "the pressure in the air by $\\gamma_{\\mathrm{oil}}(h_1 + h_2)$, so $p_{\\mathrm{air}}$"
   ],
   "metadata": {}
  },
  {
   "outputs": [
    {
     "output_type": "execute_result",
     "data": {
      "text/plain": "Pressure = 122376.848864214 Pa"
     },
     "metadata": {},
     "execution_count": 6
    }
   ],
   "cell_type": "code",
   "source": [
    "p_air = Pressure(p1 - γoil*(h1+h2))"
   ],
   "metadata": {},
   "execution_count": 6
  },
  {
   "cell_type": "markdown",
   "source": [
    "Remember, this was the absolute pressure. The gauge pressure is obtained by\n",
    "subtracting the atmospheric pressure:"
   ],
   "metadata": {}
  },
  {
   "outputs": [
    {
     "output_type": "execute_result",
     "data": {
      "text/plain": "Pressure = 21051.848864214 Pa"
     },
     "metadata": {},
     "execution_count": 7
    }
   ],
   "cell_type": "code",
   "source": [
    "p_airg = Pressure(p_air-patm)"
   ],
   "metadata": {},
   "execution_count": 7
  },
  {
   "cell_type": "markdown",
   "source": [
    "Finally, subtract the convert to psi"
   ],
   "metadata": {}
  },
  {
   "outputs": [
    {
     "output_type": "execute_result",
     "data": {
      "text/plain": "3.0533125343038727 psi"
     },
     "metadata": {},
     "execution_count": 8
    }
   ],
   "cell_type": "code",
   "source": [
    "value(p_airg,u\"psi\")"
   ],
   "metadata": {},
   "execution_count": 8
  },
  {
   "cell_type": "markdown",
   "source": [
    "In summary, the answer was\n",
    "\n",
    "$$p_{\\mathrm{air},g} = γ_{\\mathrm{Hg}}h_3 - \\gamma_{\\mathrm{oil}}(h_1 + h_2)$$"
   ],
   "metadata": {}
  },
  {
   "cell_type": "markdown",
   "source": [
    "In this example, the manometer used mercury. What if it had used water instead?\n",
    "What would $h_3$ be (assuming the same gauge pressure in the air)? This is\n",
    "given by\n",
    "\n",
    "$$h_3 = \\left(p_{\\mathrm{air},g} + \\gamma_{\\mathrm{oil}}(h_1 + h_2)\\right)/γ_w$$\n",
    "\n",
    "where $γ_w$ is the specific weight of water. Let's find out what $h_3$ would be\n",
    "(in feet)."
   ],
   "metadata": {}
  },
  {
   "outputs": [
    {
     "output_type": "execute_result",
     "data": {
      "text/plain": "10.200000000000001 ft"
     },
     "metadata": {},
     "execution_count": 9
    }
   ],
   "cell_type": "code",
   "source": [
    "h3 = Height((p_airg + γoil*(h1+h2))/SpecificWeight(Water))\n",
    "value(h3,u\"ft\")"
   ],
   "metadata": {},
   "execution_count": 9
  },
  {
   "cell_type": "markdown",
   "source": [
    "10.2 feet instead of 9 inches! There is big advantage in using a heavy working\n",
    "liquid in a manometer, because it does not rise as high. It's easier to\n",
    "get readings."
   ],
   "metadata": {}
  },
  {
   "cell_type": "markdown",
   "source": [
    "### Example 2\n",
    "In the previous example, we pointed out that mercury is useful for translating\n",
    "a large pressure into a relatively small height change. Sometimes we need the\n",
    "opposite: if we want to measure a relatively small pressure difference,\n",
    "we want it to be easy to read on the manometer. For this purpose, we can use an\n",
    "inclined tube manometer, as in the setup shown in the figure below:\n",
    "\n",
    "# <img src=\"https://raw.githubusercontent.com/UCLAMAEThreads/MAE103/main/notebook/w0027.jpg\" alt=\"manometer\" width=\"250\" align=\"left\"/>\n",
    "\n",
    "We read the length $l_2$ along the manometer tube. How does this length come into the\n",
    "manometer equation? Only the vertical part of $l_2$ enters this equation, i.e.,\n",
    "$l_2 \\sin \\theta$\n",
    "\n",
    "The equation between $A$ and $B$ is\n",
    "\n",
    "$$p_A + \\gamma_1 h_1 - \\gamma_2 l_2 \\sin \\theta - \\gamma_3 h_3 = p_B$$\n",
    "\n",
    "(From $A$, we drop down by $h_1$ with fluid 1, rise by $l_2 \\sin \\theta$ with fluid 2,\n",
    " then rise by $h_3$ with fluid 3.)\n",
    "\n",
    "Let's assume that fluids 1 and 3 are gases, so their specific weights are negligible.\n",
    "Then\n",
    "\n",
    "$$p_B - p_A = \\gamma_2 l_2 \\sin \\theta$$\n",
    "\n",
    "or, in other words,\n",
    "\n",
    "$$l_2 = \\dfrac{p_B - p_A}{\\gamma_2\\sin\\theta}$$\n",
    "\n",
    "Let's try this out for a few different angles of inclined tube. We will assume that the\n",
    "pressure difference is 100 Pa --- a pretty small pressure difference --- and the\n",
    "working fluid (fluid 2) is water."
   ],
   "metadata": {}
  },
  {
   "outputs": [
    {
     "output_type": "execute_result",
     "data": {
      "text/plain": "SpecificWeight = 9796.84335 N m⁻³"
     },
     "metadata": {},
     "execution_count": 10
    }
   ],
   "cell_type": "code",
   "source": [
    "dp = Pressure(100)\n",
    "γ = SpecificWeight(Water)"
   ],
   "metadata": {},
   "execution_count": 10
  },
  {
   "cell_type": "markdown",
   "source": [
    "We'll start with a vertical tube (90 degrees)"
   ],
   "metadata": {}
  },
  {
   "outputs": [
    {
     "output_type": "execute_result",
     "data": {
      "text/plain": "1.0207369499278562 cm"
     },
     "metadata": {},
     "execution_count": 11
    }
   ],
   "cell_type": "code",
   "source": [
    "Θ = 90π/180\n",
    "l = Length(dp/γ/sin(Θ))\n",
    "value(l,u\"cm\")"
   ],
   "metadata": {},
   "execution_count": 11
  },
  {
   "cell_type": "markdown",
   "source": [
    "Now a tube at 45 degrees"
   ],
   "metadata": {}
  },
  {
   "outputs": [
    {
     "output_type": "execute_result",
     "data": {
      "text/plain": "1.4435400382033212 cm"
     },
     "metadata": {},
     "execution_count": 12
    }
   ],
   "cell_type": "code",
   "source": [
    "Θ = 45π/180\n",
    "l = Length(dp/γ/sin(Θ))\n",
    "value(l,u\"cm\")"
   ],
   "metadata": {},
   "execution_count": 12
  },
  {
   "cell_type": "markdown",
   "source": [
    "and finally a tube at 10 degrees"
   ],
   "metadata": {}
  },
  {
   "outputs": [
    {
     "output_type": "execute_result",
     "data": {
      "text/plain": "5.8781898182986 cm"
     },
     "metadata": {},
     "execution_count": 13
    }
   ],
   "cell_type": "code",
   "source": [
    "Θ = 10π/180\n",
    "l = Length(dp/γ/sin(Θ))\n",
    "value(l,u\"cm\")"
   ],
   "metadata": {},
   "execution_count": 13
  },
  {
   "cell_type": "markdown",
   "source": [
    "Notice how the length goes up as the tube becomes more and more horizontal.\n",
    "This makes it much easier to read the manometer without being prone to error."
   ],
   "metadata": {}
  },
  {
   "cell_type": "markdown",
   "source": [
    "---\n",
    "\n",
    "*This notebook was generated using [Literate.jl](https://github.com/fredrikekre/Literate.jl).*"
   ],
   "metadata": {}
  }
 ],
 "nbformat_minor": 3,
 "metadata": {
  "language_info": {
   "file_extension": ".jl",
   "mimetype": "application/julia",
   "name": "julia",
   "version": "1.8.2"
  },
  "kernelspec": {
   "name": "julia-1.8",
   "display_name": "Julia 1.8.2",
   "language": "julia"
  }
 },
 "nbformat": 4
}
